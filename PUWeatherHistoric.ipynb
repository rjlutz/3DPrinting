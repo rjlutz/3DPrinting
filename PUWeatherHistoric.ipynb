{
  "nbformat": 4,
  "nbformat_minor": 0,
  "metadata": {
    "colab": {
      "provenance": [],
      "authorship_tag": "ABX9TyO/F4DH/vhZoB9LaneY47pO",
      "include_colab_link": true
    },
    "kernelspec": {
      "name": "python3",
      "display_name": "Python 3"
    },
    "language_info": {
      "name": "python"
    }
  },
  "cells": [
    {
      "cell_type": "markdown",
      "metadata": {
        "id": "view-in-github",
        "colab_type": "text"
      },
      "source": [
        "<a href=\"https://colab.research.google.com/github/rjlutz/3DPrinting/blob/master/PUWeatherHistoric.ipynb\" target=\"_parent\"><img src=\"https://colab.research.google.com/assets/colab-badge.svg\" alt=\"Open In Colab\"/></a>"
      ]
    },
    {
      "cell_type": "markdown",
      "source": [
        "# Setup imports and initial variables\n",
        "\n",
        "We will be calculating the **total rainfall** recorded by the Davis weather instruments within a specific time window at Piedmont University.\n",
        "\n",
        "We should be able to run this from a smartphone or a browser. The only required inputs are the beginning time and ending time for a time period of interest."
      ],
      "metadata": {
        "id": "d8EQ51ShDVOI"
      }
    },
    {
      "cell_type": "code",
      "source": [
        "import requests\n",
        "from datetime import datetime\n",
        "import time\n",
        "import json\n",
        "\n",
        "api_key = \"c5hl3euhqgih7xk5yonp6uch8apbojmb\"            # API details\n",
        "api_secret = \"\"                                         #"
      ],
      "metadata": {
        "id": "DQ4qSMPwBwp5"
      },
      "execution_count": 2,
      "outputs": []
    },
    {
      "cell_type": "markdown",
      "source": [
        "# Classes to hold the data"
      ],
      "metadata": {
        "id": "AAjOYI_GDvRl"
      }
    },
    {
      "cell_type": "code",
      "source": [
        "class WeatherData:\n",
        "  def __init__(self, json_string):\n",
        "    try:\n",
        "      data_dict = json.loads(json_string)\n",
        "      self.station_id_uuid = data_dict[\"station_id_uuid\"]\n",
        "      self.sensors = [Sensor(**sensor_data) for sensor_data in data_dict[\"sensors\"]]\n",
        "      self.generated_at = data_dict[\"generated_at\"]\n",
        "    except json.JSONDecodeError as e:\n",
        "      print(f\"Error parsing JSON: {e}\")\n",
        "      raise\n",
        "\n",
        "class Sensor:\n",
        "  def __init__(self, lsid, data, sensor_type, data_structure_type):\n",
        "    self.lsid = lsid\n",
        "    self.data = data  # List of data points (dictionaries)\n",
        "    self.sensor_type = sensor_type\n",
        "\n",
        "    self.data_structure_type = data_structure_type"
      ],
      "metadata": {
        "id": "9HTzY1hoB6Zm"
      },
      "execution_count": 3,
      "outputs": []
    },
    {
      "cell_type": "markdown",
      "source": [
        "# Utility function to convert user's start/end to 'Unix time'.\n",
        "Unix time is required by the Weatherlink service and is the number of seconds since the Unix Epoch, aka 1/1/1070 GMT."
      ],
      "metadata": {
        "id": "_8g0juL0D3aO"
      }
    },
    {
      "cell_type": "code",
      "source": [
        "def get_unix_timestamp(time_string):\n",
        "  date_time = datetime.strptime(time_string, \"%Y/%m/%d %H:%M:%S\") # Convert time to datetime object\n",
        "  return int(date_time.timestamp())   # Get and return Unix timestamp in seconds"
      ],
      "metadata": {
        "id": "ht70CICYCDLR"
      },
      "execution_count": 4,
      "outputs": []
    },
    {
      "cell_type": "markdown",
      "source": [
        "# Two more functions\n",
        "\n",
        "The first will call the Weatherlink service at:\n",
        "\n",
        "    https://api.weatherlink.com/v2/historic\n",
        "\n",
        "with query parameters like:\n",
        "\n",
        "    api-key = our api_key\n",
        "    start-timestamp = unix_time_to_begin\n",
        "    end-timestamp = unix_time_to_end\n",
        "\n",
        "We also provide a http header with the api secret\n",
        "\n",
        "\n",
        "The second function tallies the rainfall in inches across a time window. Weatherlink limits us from requesting more that 24 hours in a call, so we will call this fir every 24 period in the requested window.\n"
      ],
      "metadata": {
        "id": "2N6VGV09EaHR"
      }
    },
    {
      "cell_type": "code",
      "source": [
        "def get_weather_data(station_id, ts):\n",
        "\n",
        "  url = f\"https://api.weatherlink.com/v2/historic/{station_id}?api-key={api_key}&start-timestamp={ts[0]}&end-timestamp={ts[1]}\"\n",
        "  headers = {\"X-Api-Secret\": api_secret}\n",
        "\n",
        "  try:\n",
        "    response = requests.get(url, headers=headers)\n",
        "    response.raise_for_status()\n",
        "\n",
        "    weather_data = WeatherData(response.text)\n",
        "    return weather_data\n",
        "\n",
        "  except requests.exceptions.RequestException as e:\n",
        "    if e.response.status_code == 400:\n",
        "        print(e.response.text)\n",
        "        exit()\n",
        "    print(f\"Error: An error occurred while making the request: {e}\")\n",
        "    return None\n",
        "\n",
        "def calculate_total_rain(weather_data):\n",
        "\n",
        "  total_rain = 0\n",
        "\n",
        "  for sensor in weather_data.sensors:\n",
        "      if sensor.sensor_type != 37:\n",
        "          continue\n",
        "      for datum in sensor.data:\n",
        "        total_rain += float(datum['rainfall_in'])\n",
        "        # print(f\"ts:{datum['ts']} rainfall_in: {datum['rainfall_in']}\")\n",
        "\n",
        "  return total_rain"
      ],
      "metadata": {
        "id": "WGmWasooCUKJ"
      },
      "execution_count": 5,
      "outputs": []
    },
    {
      "cell_type": "markdown",
      "source": [
        "# Finally! The calculation!\n",
        "\n",
        "We use the imports, varaiables, classes and functions defined above"
      ],
      "metadata": {
        "id": "pc9jy7UuFpFV"
      }
    },
    {
      "cell_type": "code",
      "source": [
        "wetlands_station_id = 72242                      # Set station ID\n",
        "                                                 # rainfall from 2024/05/04 00:00:00 to 2024/05/05 00:00:00\n",
        "default_start = \"2024/05/04 00:13:16\"            # inches\n",
        "default_end = \"2024/05/20 00:13:17\"              # Prompt the user for the beginning and end times\n",
        "s_prompt = f\"Enter start time ({default_start}): \"\n",
        "e_prompt = f\"Enter end time ({default_end}): \"\n",
        "start_string = input(s_prompt) or default_start\n",
        "end_string = input(e_prompt) or default_end\n",
        "\n",
        "ts = []                                          # ts has begin/ending timestamps from the user\n",
        "ts.append(get_unix_timestamp(start_string))\n",
        "ts.append(get_unix_timestamp(end_string))\n",
        "\n",
        "begin = ts[0]\n",
        "total_rainfall = 0\n",
        "print()\n",
        "while ts[1] - begin >= 0:\n",
        "  end = ts[1] if ts[1] - begin < 86400 else begin+86399\n",
        "  b_formatted_time = time.strftime(\"%Y/%m/%d %H:%M:%S\", time.localtime(begin))\n",
        "  e_formatted_time = time.strftime(\"%Y/%m/%d %H:%M:%S\", time.localtime(end))\n",
        "\n",
        "  weather_data = get_weather_data(wetlands_station_id, [begin, begin+86400])\n",
        "  this_rainfall = calculate_total_rain(weather_data)\n",
        "  total_rainfall += this_rainfall\n",
        "  print(f'Rainfall from {b_formatted_time} to {e_formatted_time}: {this_rainfall:.2f} (accumulated {total_rainfall:.2f})')\n",
        "  begin = end+1\n",
        "\n",
        "\n",
        "print (f'\\nTotal rainfall: {total_rainfall:.2f}')"
      ],
      "metadata": {
        "colab": {
          "base_uri": "https://localhost:8080/"
        },
        "id": "xsHcYhH2CtQ_",
        "outputId": "d424d8f3-d519-4b68-8f10-e5e9243aa659"
      },
      "execution_count": 7,
      "outputs": [
        {
          "output_type": "stream",
          "name": "stdout",
          "text": [
            "Enter start time (2024/05/04 00:13:16): 2024/01/01 00:01:00\n",
            "Enter end time (2024/05/20 00:13:17): 2024/03/17 11:59:30\n",
            "\n",
            "Rainfall from 2024/01/01 00:01:00 to 2024/01/02 00:00:59: 0.00 (accumulated 0.00)\n",
            "Rainfall from 2024/01/02 00:01:00 to 2024/01/03 00:00:59: 0.00 (accumulated 0.00)\n",
            "Rainfall from 2024/01/03 00:01:00 to 2024/01/04 00:00:59: 0.00 (accumulated 0.00)\n",
            "Rainfall from 2024/01/04 00:01:00 to 2024/01/05 00:00:59: 0.00 (accumulated 0.00)\n",
            "Rainfall from 2024/01/05 00:01:00 to 2024/01/06 00:00:59: 0.00 (accumulated 0.00)\n",
            "Rainfall from 2024/01/06 00:01:00 to 2024/01/07 00:00:59: 1.34 (accumulated 1.34)\n",
            "Rainfall from 2024/01/07 00:01:00 to 2024/01/08 00:00:59: 0.00 (accumulated 1.34)\n",
            "Rainfall from 2024/01/08 00:01:00 to 2024/01/09 00:00:59: 0.00 (accumulated 1.34)\n",
            "Rainfall from 2024/01/09 00:01:00 to 2024/01/10 00:00:59: 3.76 (accumulated 5.10)\n",
            "Rainfall from 2024/01/10 00:01:00 to 2024/01/11 00:00:59: 0.02 (accumulated 5.12)\n",
            "Rainfall from 2024/01/11 00:01:00 to 2024/01/12 00:00:59: 0.00 (accumulated 5.12)\n",
            "Rainfall from 2024/01/12 00:01:00 to 2024/01/13 00:00:59: 1.16 (accumulated 6.28)\n",
            "Rainfall from 2024/01/13 00:01:00 to 2024/01/14 00:00:59: 0.01 (accumulated 6.29)\n",
            "Rainfall from 2024/01/14 00:01:00 to 2024/01/15 00:00:59: 0.00 (accumulated 6.29)\n",
            "Rainfall from 2024/01/15 00:01:00 to 2024/01/16 00:00:59: 0.00 (accumulated 6.29)\n",
            "Rainfall from 2024/01/16 00:01:00 to 2024/01/17 00:00:59: 0.02 (accumulated 6.31)\n",
            "Rainfall from 2024/01/17 00:01:00 to 2024/01/18 00:00:59: 0.00 (accumulated 6.31)\n",
            "Rainfall from 2024/01/18 00:01:00 to 2024/01/19 00:00:59: 0.00 (accumulated 6.31)\n",
            "Rainfall from 2024/01/19 00:01:00 to 2024/01/20 00:00:59: 0.03 (accumulated 6.34)\n",
            "Rainfall from 2024/01/20 00:01:00 to 2024/01/21 00:00:59: 0.00 (accumulated 6.34)\n",
            "Rainfall from 2024/01/21 00:01:00 to 2024/01/22 00:00:59: 0.00 (accumulated 6.34)\n",
            "Rainfall from 2024/01/22 00:01:00 to 2024/01/23 00:00:59: 0.00 (accumulated 6.34)\n",
            "Rainfall from 2024/01/23 00:01:00 to 2024/01/24 00:00:59: 0.05 (accumulated 6.39)\n",
            "Rainfall from 2024/01/24 00:01:00 to 2024/01/25 00:00:59: 0.38 (accumulated 6.77)\n",
            "Rainfall from 2024/01/25 00:01:00 to 2024/01/26 00:00:59: 2.23 (accumulated 9.00)\n",
            "Rainfall from 2024/01/26 00:01:00 to 2024/01/27 00:00:59: 0.17 (accumulated 9.17)\n",
            "Rainfall from 2024/01/27 00:01:00 to 2024/01/28 00:00:59: 1.11 (accumulated 10.28)\n",
            "Rainfall from 2024/01/28 00:01:00 to 2024/01/29 00:00:59: 0.12 (accumulated 10.40)\n",
            "Rainfall from 2024/01/29 00:01:00 to 2024/01/30 00:00:59: 0.00 (accumulated 10.40)\n",
            "Rainfall from 2024/01/30 00:01:00 to 2024/01/31 00:00:59: 0.00 (accumulated 10.40)\n",
            "Rainfall from 2024/01/31 00:01:00 to 2024/02/01 00:00:59: 0.07 (accumulated 10.47)\n",
            "Rainfall from 2024/02/01 00:01:00 to 2024/02/02 00:00:59: 0.00 (accumulated 10.47)\n",
            "Rainfall from 2024/02/02 00:01:00 to 2024/02/03 00:00:59: 0.00 (accumulated 10.47)\n",
            "Rainfall from 2024/02/03 00:01:00 to 2024/02/04 00:00:59: 0.00 (accumulated 10.47)\n",
            "Rainfall from 2024/02/04 00:01:00 to 2024/02/05 00:00:59: 0.00 (accumulated 10.47)\n",
            "Rainfall from 2024/02/05 00:01:00 to 2024/02/06 00:00:59: 0.00 (accumulated 10.47)\n",
            "Rainfall from 2024/02/06 00:01:00 to 2024/02/07 00:00:59: 0.00 (accumulated 10.47)\n",
            "Rainfall from 2024/02/07 00:01:00 to 2024/02/08 00:00:59: 0.00 (accumulated 10.47)\n",
            "Rainfall from 2024/02/08 00:01:00 to 2024/02/09 00:00:59: 0.00 (accumulated 10.47)\n",
            "Rainfall from 2024/02/09 00:01:00 to 2024/02/10 00:00:59: 0.00 (accumulated 10.47)\n",
            "Rainfall from 2024/02/10 00:01:00 to 2024/02/11 00:00:59: 0.00 (accumulated 10.47)\n",
            "Rainfall from 2024/02/11 00:01:00 to 2024/02/12 00:00:59: 0.69 (accumulated 11.16)\n",
            "Rainfall from 2024/02/12 00:01:00 to 2024/02/13 00:00:59: 2.62 (accumulated 13.78)\n",
            "Rainfall from 2024/02/13 00:01:00 to 2024/02/14 00:00:59: 0.06 (accumulated 13.84)\n",
            "Rainfall from 2024/02/14 00:01:00 to 2024/02/15 00:00:59: 0.00 (accumulated 13.84)\n",
            "Rainfall from 2024/02/15 00:01:00 to 2024/02/16 00:00:59: 0.00 (accumulated 13.84)\n",
            "Rainfall from 2024/02/16 00:01:00 to 2024/02/17 00:00:59: 0.00 (accumulated 13.84)\n",
            "Rainfall from 2024/02/17 00:01:00 to 2024/02/18 00:00:59: 0.03 (accumulated 13.87)\n",
            "Rainfall from 2024/02/18 00:01:00 to 2024/02/19 00:00:59: 0.00 (accumulated 13.87)\n",
            "Rainfall from 2024/02/19 00:01:00 to 2024/02/20 00:00:59: 0.00 (accumulated 13.87)\n",
            "Rainfall from 2024/02/20 00:01:00 to 2024/02/21 00:00:59: 0.00 (accumulated 13.87)\n",
            "Rainfall from 2024/02/21 00:01:00 to 2024/02/22 00:00:59: 0.00 (accumulated 13.87)\n",
            "Rainfall from 2024/02/22 00:01:00 to 2024/02/23 00:00:59: 0.00 (accumulated 13.87)\n",
            "Rainfall from 2024/02/23 00:01:00 to 2024/02/24 00:00:59: 0.72 (accumulated 14.59)\n",
            "Rainfall from 2024/02/24 00:01:00 to 2024/02/25 00:00:59: 0.00 (accumulated 14.59)\n",
            "Rainfall from 2024/02/25 00:01:00 to 2024/02/26 00:00:59: 0.00 (accumulated 14.59)\n",
            "Rainfall from 2024/02/26 00:01:00 to 2024/02/27 00:00:59: 0.00 (accumulated 14.59)\n",
            "Rainfall from 2024/02/27 00:01:00 to 2024/02/28 00:00:59: 0.03 (accumulated 14.62)\n",
            "Rainfall from 2024/02/28 00:01:00 to 2024/02/29 00:00:59: 0.24 (accumulated 14.86)\n",
            "Rainfall from 2024/02/29 00:01:00 to 2024/03/01 00:00:59: 0.00 (accumulated 14.86)\n",
            "Rainfall from 2024/03/01 00:01:00 to 2024/03/02 00:00:59: 1.87 (accumulated 16.73)\n",
            "Rainfall from 2024/03/02 00:01:00 to 2024/03/03 00:00:59: 0.04 (accumulated 16.77)\n",
            "Rainfall from 2024/03/03 00:01:00 to 2024/03/04 00:00:59: 0.00 (accumulated 16.77)\n",
            "Rainfall from 2024/03/04 00:01:00 to 2024/03/05 00:00:59: 0.00 (accumulated 16.77)\n",
            "Rainfall from 2024/03/05 00:01:00 to 2024/03/06 00:00:59: 0.03 (accumulated 16.80)\n",
            "Rainfall from 2024/03/06 00:01:00 to 2024/03/07 00:00:59: 1.53 (accumulated 18.33)\n",
            "Rainfall from 2024/03/07 00:01:00 to 2024/03/08 00:00:59: 0.01 (accumulated 18.34)\n",
            "Rainfall from 2024/03/08 00:01:00 to 2024/03/09 00:00:59: 0.00 (accumulated 18.34)\n",
            "Rainfall from 2024/03/09 00:01:00 to 2024/03/10 00:00:59: 1.96 (accumulated 20.30)\n",
            "Rainfall from 2024/03/10 00:01:00 to 2024/03/11 00:00:59: 0.00 (accumulated 20.30)\n",
            "Rainfall from 2024/03/11 00:01:00 to 2024/03/12 00:00:59: 0.00 (accumulated 20.30)\n",
            "Rainfall from 2024/03/12 00:01:00 to 2024/03/13 00:00:59: 0.00 (accumulated 20.30)\n",
            "Rainfall from 2024/03/13 00:01:00 to 2024/03/14 00:00:59: 0.00 (accumulated 20.30)\n",
            "Rainfall from 2024/03/14 00:01:00 to 2024/03/15 00:00:59: 0.00 (accumulated 20.30)\n",
            "Rainfall from 2024/03/15 00:01:00 to 2024/03/16 00:00:59: 0.38 (accumulated 20.68)\n",
            "Rainfall from 2024/03/16 00:01:00 to 2024/03/17 00:00:59: 0.00 (accumulated 20.68)\n",
            "Rainfall from 2024/03/17 00:01:00 to 2024/03/17 11:59:30: 0.00 (accumulated 20.68)\n",
            "\n",
            "Total rainfall: 20.68\n"
          ]
        }
      ]
    }
  ]
}